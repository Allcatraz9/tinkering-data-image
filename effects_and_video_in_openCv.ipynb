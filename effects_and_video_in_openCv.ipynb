{
 "cells": [
  {
   "cell_type": "code",
   "execution_count": 2,
   "metadata": {},
   "outputs": [],
   "source": [
    "# import cv2"
   ]
  },
  {
   "cell_type": "code",
   "execution_count": 3,
   "metadata": {},
   "outputs": [],
   "source": [
    "# cap = cv2.VideoCapture(0)"
   ]
  },
  {
   "cell_type": "code",
   "execution_count": 4,
   "metadata": {},
   "outputs": [],
   "source": [
    "# while True:\n",
    "#     success, img = cap.read()\n",
    "#     cv2.imshow(\"Video\",img)\n",
    "#     key = cv2.waitKey(1) & 0xFF\n",
    "#     if key == ord('q'):\n",
    "#         break\n",
    "# cap.release()\n",
    "# cv2.destroyAllWindows()"
   ]
  },
  {
   "cell_type": "code",
   "execution_count": 10,
   "metadata": {},
   "outputs": [],
   "source": [
    "# import cv2\n",
    "# import numpy as np"
   ]
  },
  {
   "cell_type": "code",
   "execution_count": 11,
   "metadata": {},
   "outputs": [],
   "source": [
    "# img = cv2.imread(\"abba.png\")\n",
    "## defining numpy array matrix of value of 1 and size 5x5 with data type of unsigned integer of 8 bit stand as uint8\n",
    "# kernel = np.ones((5,5),np.uint8)"
   ]
  },
  {
   "cell_type": "code",
   "execution_count": 14,
   "metadata": {},
   "outputs": [],
   "source": [
    "# imggray = cv2.cvtColor(img, cv2.COLOR_BGR2GRAY)\n",
    "# blurimage=cv2.GaussianBlur(imggray,(7,7),0)\n",
    "# imgcanny = cv2.Canny(img,150,250)\n",
    "# #incresing iteration with increase border size of image (aur moti hojyegi image)\n",
    "# imgDialation = cv2.dilate(imgcanny,kernel,iterations=1)\n",
    "# cv2.imshow(\"Gray_image\",imggray)\n",
    "# cv2.imshow(\"Blur_image\",blurimage)\n",
    "# cv2.imshow(\"Canny_image\",imgcanny)\n",
    "# cv2.imshow(\"Image_Dialaion\",imgDialation)\n",
    "# cv2.waitKey(0)\n",
    "# cv2.destroyAllWindows()\n",
    "\n"
   ]
  },
  {
   "cell_type": "code",
   "execution_count": 2,
   "metadata": {},
   "outputs": [],
   "source": [
    "# import cv2\n",
    "# import numpy as np"
   ]
  },
  {
   "cell_type": "code",
   "execution_count": 10,
   "metadata": {},
   "outputs": [
    {
     "name": "stdout",
     "output_type": "stream",
     "text": [
      "(852, 1280, 3)\n",
      "(400, 600, 3)\n"
     ]
    }
   ],
   "source": [
    "# img = cv2.imread(\"schotke.jpg\")\n",
    "# print(img.shape)\n",
    "# #here 600 is width and 400 is heigth\n",
    "# img_resize = cv2.resize(img,(600,400))\n",
    "# print(img_resize.shape)\n",
    "# cv2.imshow(\"Image\",img)\n",
    "# cv2.imshow(\"Resize\",img_resize)\n",
    "# cv2.waitKey(0)\n",
    "# cv2.destroyAllWindows()"
   ]
  },
  {
   "cell_type": "code",
   "execution_count": 2,
   "metadata": {},
   "outputs": [],
   "source": [
    "# import cv2 \n",
    "# import numpy as np"
   ]
  },
  {
   "cell_type": "code",
   "execution_count": 36,
   "metadata": {},
   "outputs": [],
   "source": [
    "# img = np.zeros((512,512,3),np.uint8)\n",
    "# #note:color code used is not in decimal(R.G.B)format but in BGR format\n",
    "# #200:300 is height and 100:300 is width\n",
    "##img[200:300,100:300]=0,0,255\n",
    "# #if we want to color the whole image then use \"img[:] = 'BGR_color_code'  \"\n",
    "# #here (0,0) is starting point and img.shape[1] is width and img.shape[0] is height and 3 is thickness of line and BGR color code is for color of line\n",
    "# cv2.line(img,(0,0),(img.shape[1],img.shape[0]),(0,255,0),3)\n",
    "# #you can write line thickness like '3' above to have a thickness and if want your rectangle filled with color of boundary then 'cv2.FILLED'\n",
    "# cv2.rectangle(img,(0,0),(350,350),(0,0,255),3)\n",
    "# cv2.circle(img,(400,50),30,(255,255,0),3)\n",
    "# #here in (300,200) 200 is height and 300 is width and '1' which is written after font is scale of the text\n",
    "# cv2.putText(img,\" OPENCV\",(300,200),cv2.FONT_HERSHEY_COMPLEX,1,(250,150,0),2)\n",
    "# cv2.imshow(\"Image\",img)\n",
    "# cv2.waitKey(0)\n",
    "# cv2.destroyAllWindows()"
   ]
  },
  {
   "cell_type": "code",
   "execution_count": 6,
   "metadata": {},
   "outputs": [],
   "source": [
    "# warp perspective --------->\n",
    "# import cv2\n",
    "# import numpy as np"
   ]
  },
  {
   "cell_type": "code",
   "execution_count": 23,
   "metadata": {},
   "outputs": [],
   "source": [
    "# img = cv2.imread(\"cards.jpg\")\n",
    "# img_resize = cv2.resize(img,(600,400))\n",
    "# width,height = 250,350\n",
    "# pts1 = np.float32([[140,219],[200,100],[200,300],[300,300]])\n",
    "# pts2 = np.float32([[0,0],[width,0],[0,height],[width,height]])\n",
    "# matrix = cv2.getPerspectiveTransform(pts1,pts2)\n",
    "# imgOutput = cv2.warpPerspective(img,matrix,(width,height))"
   ]
  },
  {
   "cell_type": "code",
   "execution_count": 24,
   "metadata": {},
   "outputs": [],
   "source": [
    "# cv2.imshow(\"Image\",img_resize)\n",
    "# cv2.imshow(\"Warped perspective\",imgOutput)\n",
    "# cv2.waitKey(0)\n",
    "# cv2.destroyAllWindows()"
   ]
  },
  {
   "cell_type": "code",
   "execution_count": 1,
   "metadata": {},
   "outputs": [],
   "source": [
    "import cv2\n",
    "import numpy as np"
   ]
  },
  {
   "cell_type": "code",
   "execution_count": 53,
   "metadata": {
    "scrolled": true
   },
   "outputs": [
    {
     "name": "stdout",
     "output_type": "stream",
     "text": [
      "0.0\n",
      "0.0\n",
      "0.0\n",
      "0.0\n",
      "0.0\n",
      "0.0\n",
      "0.0\n",
      "0.0\n",
      "0.0\n",
      "0.0\n",
      "0.0\n",
      "0.0\n",
      "0.0\n",
      "4075.5\n",
      "4\n",
      "71.5\n",
      "3974.5\n",
      "8\n",
      "0.0\n",
      "0.0\n",
      "0.0\n",
      "0.0\n",
      "0.0\n",
      "0.0\n",
      "0.0\n",
      "0.0\n",
      "2.0\n",
      "0.5\n",
      "0.0\n",
      "0.0\n",
      "0.0\n",
      "0.0\n",
      "0.0\n",
      "0.0\n",
      "0.0\n",
      "0.0\n",
      "0.0\n",
      "0.0\n",
      "0.0\n",
      "0.0\n",
      "0.0\n",
      "0.0\n",
      "0.0\n",
      "0.0\n",
      "0.0\n",
      "0.0\n",
      "4216.0\n",
      "4\n",
      "0.0\n",
      "0.0\n",
      "0.0\n",
      "3.0\n",
      "4156.5\n",
      "8\n",
      "0.0\n",
      "0.0\n",
      "76.5\n"
     ]
    }
   ],
   "source": [
    "def stackImages(scale,imgArray):\n",
    "    rows = len(imgArray)\n",
    "    cols = len(imgArray[0])\n",
    "    rowsAvailable = isinstance(imgArray[0], list)\n",
    "    width = imgArray[0][0].shape[1]\n",
    "    height = imgArray[0][0].shape[0]\n",
    "    if rowsAvailable:\n",
    "        for x in range ( 0, rows):\n",
    "            for y in range(0, cols):\n",
    "                if imgArray[x][y].shape[:2] == imgArray[0][0].shape [:2]:\n",
    "                    imgArray[x][y] = cv2.resize(imgArray[x][y], (0, 0), None, scale, scale)\n",
    "                else:\n",
    "                    imgArray[x][y] = cv2.resize(imgArray[x][y], (imgArray[0][0].shape[1], imgArray[0][0].shape[0]), None, scale, scale)\n",
    "                if len(imgArray[x][y].shape) == 2: imgArray[x][y]= cv2.cvtColor( imgArray[x][y], cv2.COLOR_GRAY2BGR)\n",
    "        imageBlank = np.zeros((height, width, 3), np.uint8)\n",
    "        hor = [imageBlank]*rows\n",
    "        hor_con = [imageBlank]*rows\n",
    "        for x in range(0, rows):\n",
    "            hor[x] = np.hstack(imgArray[x])\n",
    "        ver = np.vstack(hor)\n",
    "    else:\n",
    "        for x in range(0, rows):\n",
    "            if imgArray[x].shape[:2] == imgArray[0].shape[:2]:\n",
    "                imgArray[x] = cv2.resize(imgArray[x], (0, 0), None, scale, scale)\n",
    "            else:\n",
    "                imgArray[x] = cv2.resize(imgArray[x], (imgArray[0].shape[1], imgArray[0].shape[0]), None,scale, scale)\n",
    "            if len(imgArray[x].shape) == 2: imgArray[x] = cv2.cvtColor(imgArray[x], cv2.COLOR_GRAY2BGR)\n",
    "        hor= np.hstack(imgArray)\n",
    "        ver = hor\n",
    "    return ver\n",
    "\n",
    "def getContours(img):\n",
    "    contours,heirarchy = cv2.findContours(img,cv2.RETR_EXTERNAL,cv2.CHAIN_APPROX_NONE)\n",
    "    for cnt in contours:\n",
    "        area = cv2.contourArea(cnt)\n",
    "        print(area)\n",
    "        \n",
    "        \n",
    "        if area>500:\n",
    "            cv2.drawContours(img_contour,cnt,-1,(255,0,0),3)\n",
    "            peri = cv2.arcLength(cnt,True)\n",
    "#             approx variable corner points dega shape ka jiska area of points  cnt mai store hai \n",
    "            approx = cv2.approxPolyDP(cnt,0.02*peri,True)\n",
    "            print(len(approx))\n",
    "            \n",
    "            objcor = len(approx)\n",
    "            x,y,w,h = cv2.boundingRect(approx)\n",
    "            \n",
    "            if objcor==3:object_type=\"Tri\"\n",
    "            elif objcor==4:\n",
    "                aspRatio = w/float(h)\n",
    "                if aspRatio==1.0:object_type=\"Square\"\n",
    "                else:\n",
    "                    object_type=\"rectangle\"\n",
    "            \n",
    "            elif objcor>4:\n",
    "                object_type = \"circle\"\n",
    "                \n",
    "            else:\n",
    "                object_type=\"None\"\n",
    "                \n",
    "            \n",
    "            cv2.rectangle(img_contour,(x,y,),(x+w,y+h),(0,255,0),2)\n",
    "            cv2.putText(img_contour,object_type,(x+(w//2)-10,y+(h//2)-10),cv2.FONT_HERSHEY_COMPLEX,0.5,(0,0,0),2)\n",
    "        \n",
    "#      insert shape.jpg for accuracy       \n",
    "img = cv2.imread(\"shape1.png\")\n",
    "img_contour = img.copy()\n",
    "img_gray = cv2.cvtColor(img,cv2.COLOR_BGR2GRAY)\n",
    "img_blur = cv2.GaussianBlur(img_gray,(7,7),1)\n",
    "img_canny = cv2.Canny(img_blur,50,50)\n",
    "getContours(img_canny)\n",
    "imgblank = np.zeros_like(img)\n",
    "imgstack = stackImages(0.6,([img,img_gray,img_blur],[img_canny,img_contour,imgblank]))\n"
   ]
  },
  {
   "cell_type": "code",
   "execution_count": 54,
   "metadata": {},
   "outputs": [],
   "source": [
    "cv2.imshow(\"Stack_image\",imgstack)\n",
    "\n",
    "cv2.waitKey(0)\n",
    "cv2.destroyAllWindows()"
   ]
  }
 ],
 "metadata": {
  "kernelspec": {
   "display_name": "Python 3",
   "language": "python",
   "name": "python3"
  },
  "language_info": {
   "codemirror_mode": {
    "name": "ipython",
    "version": 3
   },
   "file_extension": ".py",
   "mimetype": "text/x-python",
   "name": "python",
   "nbconvert_exporter": "python",
   "pygments_lexer": "ipython3",
   "version": "3.8.2"
  }
 },
 "nbformat": 4,
 "nbformat_minor": 4
}

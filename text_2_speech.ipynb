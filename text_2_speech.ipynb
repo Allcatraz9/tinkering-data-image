{
 "cells": [
  {
   "cell_type": "code",
   "execution_count": 5,
   "metadata": {},
   "outputs": [],
   "source": [
    "from ibm_watson import SpeechToTextV1\n",
    "import json \n",
    "from ibm_cloud_sdk_core.authenticators import IAMAuthenticator\n"
   ]
  },
  {
   "cell_type": "code",
   "execution_count": 6,
   "metadata": {},
   "outputs": [],
   "source": [
    "api = IAMAuthenticator(\"\")\n",
    "\n",
    "s2t  = SpeechToTextV1(authenticator = api)\n",
    "\n",
    "s2t.set_service_url(\"https://api.kr-seo.speech-to-text.watson.cloud.ibm.com/instances/b6fe0ecf-c6b5-4670-8975-90d2a1c91874\")\n",
    "\n",
    "\n"
   ]
  },
  {
   "cell_type": "code",
   "execution_count": 11,
   "metadata": {},
   "outputs": [],
   "source": [
    "with open(\"Thunder.mp3\",\"rb\") as audio_file:\n",
    "    result = s2t.recognize(\n",
    "      audio = audio_file , content_type=\"audio/mp3\"\n",
    "    ).get_result()"
   ]
  },
  {
   "cell_type": "code",
   "execution_count": 27,
   "metadata": {},
   "outputs": [
    {
     "name": "stdout",
     "output_type": "stream",
     "text": [
      "{'result_index': 0, 'results': [{'final': True, 'alternatives': [{'transcript': 'just a young guy with a few ', 'confidence': 0.58}]}, {'final': True, 'alternatives': [{'transcript': 'then moved ', 'confidence': 0.4}]}, {'final': True, 'alternatives': [{'transcript': 'the biggest gains in one spot ', 'confidence': 0.44}]}, {'final': True, 'alternatives': [{'transcript': 'not a ', 'confidence': 0.85}]}, {'final': True, 'alternatives': [{'transcript': 'the Mona ', 'confidence': 0.34}]}, {'final': True, 'alternatives': [{'transcript': 'take a number I was lightning before the thunder ', 'confidence': 0.52}]}, {'final': True, 'alternatives': [{'transcript': 'the ', 'confidence': 0.83}]}, {'final': True, 'alternatives': [{'transcript': 'the ', 'confidence': 0.75}]}, {'final': True, 'alternatives': [{'transcript': 'Jesus ', 'confidence': 0.1}]}, {'final': True, 'alternatives': [{'transcript': 'in my dream the mass ', 'confidence': 0.51}]}, {'final': True, 'alternatives': [{'transcript': 'they ', 'confidence': 0.3}]}, {'final': True, 'alternatives': [{'transcript': 'thank you ', 'confidence': 0.83}]}, {'final': True, 'alternatives': [{'transcript': \"say you're easy \", 'confidence': 0.49}]}, {'final': True, 'alternatives': [{'transcript': 'in the backseat ', 'confidence': 0.26}]}, {'final': True, 'alternatives': [{'transcript': 'you will ', 'confidence': 0.5}]}]}\n"
     ]
    }
   ],
   "source": [
    "print(result\n",
    "    )"
   ]
  },
  {
   "cell_type": "code",
   "execution_count": 25,
   "metadata": {},
   "outputs": [],
   "source": [
    "text = result[\"results\"][0][\"alternatives\"][0][\"transcript\"]\n"
   ]
  },
  {
   "cell_type": "code",
   "execution_count": 26,
   "metadata": {},
   "outputs": [
    {
     "name": "stdout",
     "output_type": "stream",
     "text": [
      "{'transcript': 'just a young guy with a few ', 'confidence': 0.58}\n"
     ]
    }
   ],
   "source": [
    "print(text)"
   ]
  }
 ],
 "metadata": {
  "kernelspec": {
   "display_name": "Python 3",
   "language": "python",
   "name": "python3"
  },
  "language_info": {
   "codemirror_mode": {
    "name": "ipython",
    "version": 3
   },
   "file_extension": ".py",
   "mimetype": "text/x-python",
   "name": "python",
   "nbconvert_exporter": "python",
   "pygments_lexer": "ipython3",
   "version": "3.8.2"
  }
 },
 "nbformat": 4,
 "nbformat_minor": 4
}

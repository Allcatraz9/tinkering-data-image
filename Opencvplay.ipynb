{
 "cells": [
  {
   "cell_type": "code",
   "execution_count": 2,
   "metadata": {},
   "outputs": [],
   "source": [
    "import numpy as np\n",
    "import cv2"
   ]
  },
  {
   "cell_type": "code",
   "execution_count": 3,
   "metadata": {},
   "outputs": [],
   "source": [
    "face_cascade = cv2.CascadeClassifier('cascades/data/haarcascade_frontalface_alt2.xml')"
   ]
  },
  {
   "cell_type": "code",
   "execution_count": 4,
   "metadata": {},
   "outputs": [],
   "source": [
    "cap = cv2.VideoCapture(0)"
   ]
  },
  {
   "cell_type": "code",
   "execution_count": 5,
   "metadata": {},
   "outputs": [
    {
     "name": "stdout",
     "output_type": "stream",
     "text": [
      "213 171 228 228\n",
      "252 199 152 152\n",
      "196 194 228 228\n",
      "195 195 228 228\n",
      "195 201 228 228\n",
      "195 204 228 228\n",
      "192 204 228 228\n",
      "194 202 228 228\n",
      "196 205 228 228\n",
      "197 204 228 228\n",
      "195 204 228 228\n",
      "194 205 228 228\n",
      "192 204 228 228\n",
      "197 204 228 228\n",
      "194 205 228 228\n",
      "194 205 228 228\n",
      "195 204 228 228\n",
      "194 205 228 228\n",
      "197 204 228 228\n",
      "197 204 228 228\n",
      "197 204 228 228\n",
      "197 204 228 228\n",
      "197 204 228 228\n",
      "197 204 228 228\n",
      "195 204 228 228\n",
      "194 205 228 228\n",
      "192 204 228 228\n",
      "184 197 228 228\n",
      "176 194 228 228\n",
      "176 195 228 228\n",
      "176 195 228 228\n",
      "175 196 228 228\n",
      "182 202 228 228\n",
      "186 204 228 228\n",
      "190 205 228 228\n",
      "190 205 228 228\n",
      "192 206 228 228\n",
      "194 205 228 228\n",
      "192 206 228 228\n",
      "192 208 228 228\n",
      "190 207 228 228\n",
      "192 207 228 228\n",
      "188 205 228 228\n",
      "186 205 228 228\n",
      "188 205 228 228\n",
      "186 205 228 228\n",
      "188 205 228 228\n",
      "190 205 228 228\n",
      "194 202 228 228\n",
      "197 195 228 228\n"
     ]
    }
   ],
   "source": [
    "while(True):\n",
    "    #capture frame by frame\n",
    "    ret,frame = cap.read()\n",
    "    gray = cv2.cvtColor(frame, cv2.COLOR_BGR2GRAY)\n",
    "    face = face_cascade.detectMultiScale(gray , scaleFactor = 1.5 , minNeighbors=5)\n",
    "    for (x,y,w,h) in face:\n",
    "        print(x,y,w,h)\n",
    "    #Display the resulting frame\n",
    "    cv2.imshow('frame',frame)\n",
    "    k = cv2.waitKey(30) & 0xff\n",
    "    if k==27:\n",
    "        break\n",
    "cap.release()\n",
    "cv2.destroyAllWindows()\n"
   ]
  }
 ],
 "metadata": {
  "kernelspec": {
   "display_name": "Python 3",
   "language": "python",
   "name": "python3"
  },
  "language_info": {
   "codemirror_mode": {
    "name": "ipython",
    "version": 3
   },
   "file_extension": ".py",
   "mimetype": "text/x-python",
   "name": "python",
   "nbconvert_exporter": "python",
   "pygments_lexer": "ipython3",
   "version": "3.8.2"
  }
 },
 "nbformat": 4,
 "nbformat_minor": 4
}
